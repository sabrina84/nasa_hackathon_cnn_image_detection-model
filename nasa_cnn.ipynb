{
 "cells": [
  {
   "cell_type": "code",
   "execution_count": 15,
   "metadata": {},
   "outputs": [],
   "source": [
    "import shutil\n",
    "shutil.rmtree('/Users/Sabrina Nourin/AppData/Local/Programs/Python/Python38/FIRE-SMOKE-DATASET/Train/Smoke')\n",
    "shutil.rmtree('/Users/Sabrina Nourin/AppData/Local/Programs/Python/Python38/FIRE-SMOKE-DATASET/Test/Smoke')"
   ]
  },
  {
   "cell_type": "code",
   "execution_count": 16,
   "metadata": {},
   "outputs": [],
   "source": [
    "import tensorflow as tf\n",
    "import keras_preprocessing\n",
    "from keras_preprocessing import image\n",
    "from keras_preprocessing.image import ImageDataGenerator\n",
    "import shutil"
   ]
  },
  {
   "cell_type": "code",
   "execution_count": 17,
   "metadata": {},
   "outputs": [
    {
     "name": "stdout",
     "output_type": "stream",
     "text": [
      "Found 1800 images belonging to 2 classes.\n",
      "Found 200 images belonging to 2 classes.\n"
     ]
    }
   ],
   "source": [
    "TRAINING_DIR = \"/Users/Sabrina Nourin/AppData/Local/Programs/Python/Python38/FIRE-SMOKE-DATASET/Train\"\n",
    "\n",
    "training_datagen = ImageDataGenerator(rescale=1./255,\n",
    "zoom_range=0.15,\n",
    "horizontal_flip=True,\n",
    "fill_mode='nearest')\n",
    "\n",
    "VALIDATION_DIR = \"/Users/Sabrina Nourin/AppData/Local/Programs/Python/Python38/FIRE-SMOKE-DATASET/Test\"\n",
    "validation_datagen = ImageDataGenerator(rescale = 1./255)\n",
    "\n",
    "train_generator = training_datagen.flow_from_directory(\n",
    "TRAINING_DIR,\n",
    "target_size=(224,224),\n",
    "shuffle = True,\n",
    "class_mode='categorical',\n",
    "  batch_size = 128\n",
    ")\n",
    "\n",
    "validation_generator = validation_datagen.flow_from_directory(\n",
    "VALIDATION_DIR,\n",
    "target_size=(224,224),\n",
    "class_mode='categorical',\n",
    "shuffle = True,\n",
    "  batch_size= 14\n",
    ")"
   ]
  },
  {
   "cell_type": "code",
   "execution_count": 22,
   "metadata": {},
   "outputs": [],
   "source": [
    "from tensorflow.keras.applications.inception_v3 import InceptionV3\n",
    "from tensorflow.keras.preprocessing import image\n",
    "from tensorflow.keras.models import Model\n",
    "from tensorflow.keras.layers import Dense, GlobalAveragePooling2D, Input, Dropout"
   ]
  },
  {
   "cell_type": "code",
   "execution_count": 23,
   "metadata": {},
   "outputs": [],
   "source": [
    "input_tensor = Input(shape=(224, 224, 3))\n",
    "\n",
    "base_model = InceptionV3(input_tensor=input_tensor, weights='imagenet', include_top=False)\n",
    "\n",
    "# add a global spatial average pooling layer\n",
    "x = base_model.output\n",
    "x = GlobalAveragePooling2D()(x)\n",
    "x = Dense(2048, activation='relu')(x)\n",
    "x = Dropout(0.25)(x)\n",
    "x = Dense(1024, activation='relu')(x)\n",
    "x = Dropout(0.2)(x)\n",
    "predictions = Dense(2, activation='softmax')(x)\n",
    "\n",
    "model = Model(inputs=base_model.input, outputs=predictions)\n",
    "\n",
    "for layer in base_model.layers:\n",
    "    layer.trainable = False\n",
    "\n",
    "model.compile(optimizer='rmsprop', loss='categorical_crossentropy', metrics=['acc'])"
   ]
  },
  {
   "cell_type": "code",
   "execution_count": 24,
   "metadata": {},
   "outputs": [
    {
     "name": "stdout",
     "output_type": "stream",
     "text": [
      "Epoch 1/20\n",
      "14/14 [==============================] - 94s 7s/step - loss: 8.1230 - acc: 0.7573 - val_loss: 0.1348 - val_acc: 0.9643\n",
      "Epoch 2/20\n",
      "14/14 [==============================] - 92s 7s/step - loss: 0.2343 - acc: 0.9228 - val_loss: 0.3610 - val_acc: 0.8214\n",
      "Epoch 3/20\n",
      "14/14 [==============================] - 86s 6s/step - loss: 0.3977 - acc: 0.8882 - val_loss: 0.1003 - val_acc: 0.9694\n",
      "Epoch 4/20\n",
      "14/14 [==============================] - 85s 6s/step - loss: 0.1420 - acc: 0.9432 - val_loss: 0.0896 - val_acc: 0.9643\n",
      "Epoch 5/20\n",
      "14/14 [==============================] - 86s 6s/step - loss: 0.2105 - acc: 0.9151 - val_loss: 0.1099 - val_acc: 0.9694\n",
      "Epoch 6/20\n",
      "14/14 [==============================] - ETA: 0s - loss: 0.1025 - acc: 0.9671\n",
      "\n",
      " Reached The Destination!\n",
      "14/14 [==============================] - 87s 6s/step - loss: 0.1025 - acc: 0.9671 - val_loss: 0.0974 - val_acc: 0.9694\n"
     ]
    }
   ],
   "source": [
    "class myCallback(tf.keras.callbacks.Callback):\n",
    "  def on_epoch_end(self, epoch, logs={}):\n",
    "    if(logs.get('val_loss')<=0.1099 and logs.get('loss')<=0.1099):\n",
    "      print('\\n\\n Reached The Destination!')\n",
    "      self.model.stop_training = True\n",
    "callbacks = myCallback()\n",
    "\n",
    "history = model.fit(\n",
    "    train_generator,\n",
    "    steps_per_epoch = 14,\n",
    "    epochs = 20,\n",
    "    validation_data = validation_generator,\n",
    "    validation_steps = 14,\n",
    "    callbacks=[callbacks]\n",
    ")"
   ]
  },
  {
   "cell_type": "code",
   "execution_count": 25,
   "metadata": {},
   "outputs": [
    {
     "name": "stdout",
     "output_type": "stream",
     "text": [
      "Epoch 1/10\n",
      "14/14 [==============================] - 121s 9s/step - loss: 0.4025 - acc: 0.8272 - val_loss: 0.0928 - val_acc: 0.9643\n",
      "Epoch 2/10\n",
      "14/14 [==============================] - 118s 8s/step - loss: 0.2703 - acc: 0.8774 - val_loss: 0.0955 - val_acc: 0.9694\n",
      "Epoch 3/10\n",
      "14/14 [==============================] - 121s 9s/step - loss: 0.2054 - acc: 0.9109 - val_loss: 0.1027 - val_acc: 0.9745\n",
      "Epoch 4/10\n",
      "14/14 [==============================] - 120s 9s/step - loss: 0.1913 - acc: 0.9330 - val_loss: 0.1061 - val_acc: 0.9745\n",
      "Epoch 5/10\n",
      "14/14 [==============================] - 119s 8s/step - loss: 0.1897 - acc: 0.9414 - val_loss: 0.1153 - val_acc: 0.9745\n",
      "Epoch 6/10\n",
      "14/14 [==============================] - 122s 9s/step - loss: 0.1387 - acc: 0.9563 - val_loss: 0.1201 - val_acc: 0.9643\n",
      "Epoch 7/10\n",
      "14/14 [==============================] - 124s 9s/step - loss: 0.1461 - acc: 0.9653 - val_loss: 0.1262 - val_acc: 0.9490\n",
      "Epoch 8/10\n",
      "14/14 [==============================] - 122s 9s/step - loss: 0.1260 - acc: 0.9671 - val_loss: 0.1306 - val_acc: 0.9490\n",
      "Epoch 9/10\n",
      "14/14 [==============================] - 119s 9s/step - loss: 0.1207 - acc: 0.9707 - val_loss: 0.1328 - val_acc: 0.9439\n",
      "Epoch 10/10\n",
      "14/14 [==============================] - 116s 8s/step - loss: 0.1147 - acc: 0.9743 - val_loss: 0.1329 - val_acc: 0.9490\n",
      "311\n"
     ]
    }
   ],
   "source": [
    "for layer in model.layers[:249]:\n",
    "   layer.trainable = False\n",
    "for layer in model.layers[249:]:\n",
    "   layer.trainable = True\n",
    "\n",
    "from tensorflow.keras.optimizers import SGD\n",
    "model.compile(optimizer=SGD(lr=0.0001, momentum=0.9), loss='categorical_crossentropy', metrics=['acc'])\n",
    "\n",
    "\n",
    "class myCallback(tf.keras.callbacks.Callback):\n",
    "  def on_epoch_end(self, epoch, logs={}):\n",
    "    if(logs.get('val_loss')<=0.1099 and logs.get('loss')<=0.1099):\n",
    "      print('\\n\\n Reached The Destination!')\n",
    "      self.model.stop_training = True\n",
    "callbacks = myCallback()\n",
    "\n",
    "history = model.fit(\n",
    "    train_generator,\n",
    "    steps_per_epoch = 14,\n",
    "    epochs = 10,\n",
    "    validation_data = validation_generator,\n",
    "    validation_steps = 14,\n",
    "    callbacks=[callbacks]\n",
    ")\n",
    "print(len(base_model.layers))"
   ]
  },
  {
   "cell_type": "code",
   "execution_count": 27,
   "metadata": {},
   "outputs": [
    {
     "name": "stderr",
     "output_type": "stream",
     "text": [
      "Using TensorFlow backend.\n"
     ]
    }
   ],
   "source": [
    "import numpy as np\n",
    "#from google.colab import files\n",
    "from keras.preprocessing import image"
   ]
  },
  {
   "cell_type": "code",
   "execution_count": 37,
   "metadata": {},
   "outputs": [
    {
     "name": "stdout",
     "output_type": "stream",
     "text": [
      "True 0.776989\n"
     ]
    }
   ],
   "source": [
    "path = '/Users/Sabrina Nourin/AppData/Local/Programs/Python/Python38/fire_dataset/test_image/fire_4.jpg'\n",
    "img = image.load_img(path, target_size=(224, 224))\n",
    "x = image.img_to_array(img)\n",
    "x = np.expand_dims(x, axis=0) /255\n",
    "classes = model.predict(x)\n",
    "print(np.argmax(classes[0])==0, max(classes[0]))"
   ]
  },
  {
   "cell_type": "code",
   "execution_count": null,
   "metadata": {},
   "outputs": [],
   "source": []
  }
 ],
 "metadata": {
  "kernelspec": {
   "display_name": "Python 3",
   "language": "python",
   "name": "python3"
  },
  "language_info": {
   "codemirror_mode": {
    "name": "ipython",
    "version": 3
   },
   "file_extension": ".py",
   "mimetype": "text/x-python",
   "name": "python",
   "nbconvert_exporter": "python",
   "pygments_lexer": "ipython3",
   "version": "3.8.2"
  }
 },
 "nbformat": 4,
 "nbformat_minor": 4
}
