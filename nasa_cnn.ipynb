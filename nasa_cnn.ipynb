{
 "cells": [
  {
   "cell_type": "code",
   "execution_count": 14,
   "metadata": {
    "scrolled": true
   },
   "outputs": [],
   "source": [
    "#import shutil\n",
    "#shutil.rmtree('/Users/Sabrina Nourin/AppData/Local/Programs/Python/Python38/FIRE-SMOKE-DATASET/Train/Smoke')\n",
    "#shutil.rmtree('/Users/Sabrina Nourin/AppData/Local/Programs/Python/Python38/FIRE-SMOKE-DATASET/Test/Smoke')"
   ]
  },
  {
   "cell_type": "code",
   "execution_count": 1,
   "metadata": {},
   "outputs": [],
   "source": [
    "import tensorflow as tf\n",
    "import keras_preprocessing\n",
    "from keras_preprocessing import image\n",
    "from keras_preprocessing.image import ImageDataGenerator\n",
    "import shutil"
   ]
  },
  {
   "cell_type": "code",
   "execution_count": 2,
   "metadata": {},
   "outputs": [
    {
     "name": "stdout",
     "output_type": "stream",
     "text": [
      "Found 1800 images belonging to 2 classes.\n",
      "Found 200 images belonging to 2 classes.\n"
     ]
    }
   ],
   "source": [
    "TRAINING_DIR = \"/poralekha/python/fire_dataset/FIRE-SMOKE-DATASET/Train\"\n",
    "\n",
    "training_datagen = ImageDataGenerator(rescale=1./255,\n",
    "zoom_range=0.15,\n",
    "horizontal_flip=True,\n",
    "fill_mode='nearest')\n",
    "\n",
    "VALIDATION_DIR = \"/poralekha/python/fire_dataset/FIRE-SMOKE-DATASET/Test\"\n",
    "validation_datagen = ImageDataGenerator(rescale = 1./255)\n",
    "\n",
    "train_generator = training_datagen.flow_from_directory(\n",
    "TRAINING_DIR,\n",
    "target_size=(224,224),\n",
    "shuffle = True,\n",
    "class_mode='categorical',\n",
    "  batch_size = 128\n",
    ")\n",
    "\n",
    "validation_generator = validation_datagen.flow_from_directory(\n",
    "VALIDATION_DIR,\n",
    "target_size=(224,224),\n",
    "class_mode='categorical',\n",
    "shuffle = True,\n",
    "  batch_size= 14\n",
    ")"
   ]
  },
  {
   "cell_type": "code",
   "execution_count": 3,
   "metadata": {},
   "outputs": [],
   "source": [
    "from tensorflow.keras.applications.inception_v3 import InceptionV3\n",
    "from tensorflow.keras.preprocessing import image\n",
    "from tensorflow.keras.models import Model\n",
    "from tensorflow.keras.layers import Dense, GlobalAveragePooling2D, Input, Dropout"
   ]
  },
  {
   "cell_type": "code",
   "execution_count": 4,
   "metadata": {},
   "outputs": [],
   "source": [
    "input_tensor = Input(shape=(224, 224, 3))\n",
    "\n",
    "base_model = InceptionV3(input_tensor=input_tensor, weights='imagenet', include_top=False)\n",
    "\n",
    "# add a global spatial average pooling layer\n",
    "x = base_model.output\n",
    "x = GlobalAveragePooling2D()(x)\n",
    "x = Dense(2048, activation='relu')(x)\n",
    "x = Dropout(0.25)(x)\n",
    "x = Dense(1024, activation='relu')(x)\n",
    "x = Dropout(0.2)(x)\n",
    "predictions = Dense(2, activation='softmax')(x)\n",
    "\n",
    "model = Model(inputs=base_model.input, outputs=predictions)\n",
    "\n",
    "for layer in base_model.layers:\n",
    "    layer.trainable = False\n",
    "\n",
    "model.compile(optimizer='rmsprop', loss='categorical_crossentropy', metrics=['acc'])"
   ]
  },
  {
   "cell_type": "code",
   "execution_count": 5,
   "metadata": {},
   "outputs": [
    {
     "name": "stdout",
     "output_type": "stream",
     "text": [
      "Epoch 1/20\n",
      "14/14 [==============================] - 96s 7s/step - loss: 8.0051 - acc: 0.7796 - val_loss: 0.1108 - val_acc: 0.9592\n",
      "Epoch 2/20\n",
      "14/14 [==============================] - 95s 7s/step - loss: 0.1827 - acc: 0.9288 - val_loss: 0.1102 - val_acc: 0.9592\n",
      "Epoch 3/20\n",
      "14/14 [==============================] - 104s 7s/step - loss: 0.1965 - acc: 0.9222 - val_loss: 0.0944 - val_acc: 0.9643\n",
      "Epoch 4/20\n",
      "14/14 [==============================] - 100s 7s/step - loss: 0.1491 - acc: 0.9306 - val_loss: 0.1223 - val_acc: 0.9592\n",
      "Epoch 5/20\n",
      "14/14 [==============================] - 102s 7s/step - loss: 0.2376 - acc: 0.9294 - val_loss: 0.1259 - val_acc: 0.9694\n",
      "Epoch 6/20\n",
      "14/14 [==============================] - 109s 8s/step - loss: 0.1978 - acc: 0.9504 - val_loss: 0.1616 - val_acc: 0.9541\n",
      "Epoch 7/20\n",
      "14/14 [==============================] - 107s 8s/step - loss: 0.0998 - acc: 0.9593 - val_loss: 0.2147 - val_acc: 0.9337\n",
      "Epoch 8/20\n",
      "14/14 [==============================] - 101s 7s/step - loss: 0.3950 - acc: 0.9432 - val_loss: 0.3521 - val_acc: 0.8878\n",
      "Epoch 9/20\n",
      "14/14 [==============================] - ETA: 0s - loss: 0.0709 - acc: 0.9713\n",
      "\n",
      " Reached The Destination!\n",
      "14/14 [==============================] - 104s 7s/step - loss: 0.0709 - acc: 0.9713 - val_loss: 0.0945 - val_acc: 0.9643\n"
     ]
    }
   ],
   "source": [
    "class myCallback(tf.keras.callbacks.Callback):\n",
    "  def on_epoch_end(self, epoch, logs={}):\n",
    "    if(logs.get('val_loss')<=0.1099 and logs.get('loss')<=0.1099):\n",
    "      print('\\n\\n Reached The Destination!')\n",
    "      self.model.stop_training = True\n",
    "callbacks = myCallback()\n",
    "\n",
    "history = model.fit(\n",
    "    train_generator,\n",
    "    steps_per_epoch = 14,\n",
    "    epochs = 20,\n",
    "    validation_data = validation_generator,\n",
    "    validation_steps = 14,\n",
    "    callbacks=[callbacks]\n",
    ")"
   ]
  },
  {
   "cell_type": "code",
   "execution_count": 6,
   "metadata": {},
   "outputs": [
    {
     "name": "stdout",
     "output_type": "stream",
     "text": [
      "Epoch 1/10\n",
      "14/14 [==============================] - 151s 11s/step - loss: 0.4971 - acc: 0.7344 - val_loss: 0.0843 - val_acc: 0.9694\n",
      "Epoch 2/10\n",
      "14/14 [==============================] - 149s 11s/step - loss: 0.3216 - acc: 0.8146 - val_loss: 0.0916 - val_acc: 0.9694\n",
      "Epoch 3/10\n",
      "14/14 [==============================] - 156s 11s/step - loss: 0.2916 - acc: 0.8565 - val_loss: 0.1028 - val_acc: 0.9592\n",
      "Epoch 4/10\n",
      "14/14 [==============================] - 144s 10s/step - loss: 0.2453 - acc: 0.8834 - val_loss: 0.1065 - val_acc: 0.9592\n",
      "Epoch 5/10\n",
      "14/14 [==============================] - 121s 9s/step - loss: 0.1948 - acc: 0.9073 - val_loss: 0.1110 - val_acc: 0.9592\n",
      "Epoch 6/10\n",
      "14/14 [==============================] - 120s 9s/step - loss: 0.1678 - acc: 0.9222 - val_loss: 0.1163 - val_acc: 0.9541\n",
      "Epoch 7/10\n",
      "14/14 [==============================] - 118s 8s/step - loss: 0.1620 - acc: 0.9456 - val_loss: 0.1068 - val_acc: 0.9643\n",
      "Epoch 8/10\n",
      "14/14 [==============================] - 125s 9s/step - loss: 0.1439 - acc: 0.9487 - val_loss: 0.1241 - val_acc: 0.9490\n",
      "Epoch 9/10\n",
      "14/14 [==============================] - 128s 9s/step - loss: 0.1203 - acc: 0.9587 - val_loss: 0.1242 - val_acc: 0.9490\n",
      "Epoch 10/10\n",
      "14/14 [==============================] - 122s 9s/step - loss: 0.1624 - acc: 0.9581 - val_loss: 0.1295 - val_acc: 0.9490\n",
      "311\n"
     ]
    }
   ],
   "source": [
    "for layer in model.layers[:249]:\n",
    "    layer.trainable = False\n",
    "for layer in model.layers[249:]:\n",
    "    layer.trainable = True\n",
    "\n",
    "from tensorflow.keras.optimizers import SGD\n",
    "model.compile(optimizer=SGD(lr=0.0001, momentum=0.9), loss='categorical_crossentropy', metrics=['acc'])\n",
    "\n",
    "\n",
    "class myCallback(tf.keras.callbacks.Callback):\n",
    "  def on_epoch_end(self, epoch, logs={}):\n",
    "    if(logs.get('val_loss')<=0.1099 and logs.get('loss')<=0.1099):\n",
    "        print('\\n\\n Reached The Destination!')\n",
    "        self.model.stop_training = True\n",
    "callbacks = myCallback()\n",
    "\n",
    "history = model.fit(\n",
    "    train_generator,\n",
    "    steps_per_epoch = 14,\n",
    "    epochs = 10,\n",
    "    validation_data = validation_generator,\n",
    "    validation_steps = 14,\n",
    "    callbacks=[callbacks]\n",
    ")\n",
    "print(len(base_model.layers))"
   ]
  },
  {
   "cell_type": "code",
   "execution_count": 7,
   "metadata": {},
   "outputs": [
    {
     "name": "stderr",
     "output_type": "stream",
     "text": [
      "Using TensorFlow backend.\n"
     ]
    }
   ],
   "source": [
    "import numpy as np\n",
    "#from google.colab import files\n",
    "from keras.preprocessing import image"
   ]
  },
  {
   "cell_type": "code",
   "execution_count": 24,
   "metadata": {},
   "outputs": [
    {
     "name": "stdout",
     "output_type": "stream",
     "text": [
      "fire.jpg   True 0.9950334\n",
      "non_fire_1.jpg   False 0.7909601\n",
      "non_fire_2.jpg   False 0.70530057\n"
     ]
    }
   ],
   "source": [
    "keys = ['fire.jpg','non_fire_1.jpg','non_fire_2.jpg']\n",
    "for key in keys:\n",
    "    path = '/poralekha/python/fire_dataset/test_image/'+key\n",
    "    img = image.load_img(path, target_size=(224, 224))\n",
    "    x = image.img_to_array(img)\n",
    "    x = np.expand_dims(x, axis=0) /255\n",
    "    classes = model.predict(x)\n",
    "    print(key,' ',np.argmax(classes[0])==0, max(classes[0]))"
   ]
  },
  {
   "cell_type": "code",
   "execution_count": 23,
   "metadata": {},
   "outputs": [],
   "source": [
    "import matplotlib.pyplot as plt"
   ]
  },
  {
   "cell_type": "code",
   "execution_count": 25,
   "metadata": {},
   "outputs": [
    {
     "data": {
      "image/png": "[encoded data removed]",
      "text/plain": [
       "<Figure size 432x288 with 1 Axes>"
      ]
     },
     "metadata": {
      "needs_background": "light"
     },
     "output_type": "display_data"
    },
    {
     "data": {
      "text/plain": [
       "<Figure size 432x288 with 0 Axes>"
      ]
     },
     "metadata": {},
     "output_type": "display_data"
    },
    {
     "data": {
      "image/png": "[encoded data removed]",
      "text/plain": [
       "<Figure size 432x288 with 1 Axes>"
      ]
     },
     "metadata": {
      "needs_background": "light"
     },
     "output_type": "display_data"
    },
    {
     "data": {
      "text/plain": [
       "<Figure size 432x288 with 0 Axes>"
      ]
     },
     "metadata": {},
     "output_type": "display_data"
    }
   ],
   "source": [
    "acc = history.history['acc']\n",
    "val_acc = history.history['val_acc']\n",
    "loss = history.history['loss']\n",
    "val_loss = history.history['val_loss']\n",
    "\n",
    "epochs = range(len(acc))\n",
    "\n",
    "plt.plot(epochs, acc, 'g', label='Training accuracy')\n",
    "plt.plot(epochs, val_acc, 'b', label='Validation accuracy')\n",
    "plt.title('Training and validation accuracy')\n",
    "\n",
    "plt.legend(loc=0)\n",
    "plt.figure()\n",
    "plt.show()\n",
    "\n",
    "plt.plot(epochs, loss, 'r', label='Training loss')\n",
    "plt.plot(epochs, val_loss, 'orange', label='Validation loss')\n",
    "plt.title('Training and validation loss')\n",
    "\n",
    "plt.legend(loc=0)\n",
    "plt.figure()\n",
    "plt.show()"
   ]
  },
  {
   "cell_type": "code",
   "execution_count": null,
   "metadata": {},
   "outputs": [],
   "source": []
  }
 ],
 "metadata": {
  "kernelspec": {
   "display_name": "Python 3",
   "language": "python",
   "name": "python3"
  },
  "language_info": {
   "codemirror_mode": {
    "name": "ipython",
    "version": 3
   },
   "file_extension": ".py",
   "mimetype": "text/x-python",
   "name": "python",
   "nbconvert_exporter": "python",
   "pygments_lexer": "ipython3",
   "version": "3.8.2"
  }
 },
 "nbformat": 4,
 "nbformat_minor": 4
}
